{
 "cells": [
  {
   "cell_type": "markdown",
   "metadata": {},
   "source": [
    "## Online LinUCB Contextual Bandits for News Article Recommendation"
   ]
  },
  {
   "cell_type": "code",
   "execution_count": 72,
   "metadata": {},
   "outputs": [],
   "source": [
    "import pandas as pd\n",
    "import numpy as np\n",
    "from sklearn.linear_model import SGDRegressor\n",
    "import matplotlib.pyplot as plt"
   ]
  },
  {
   "cell_type": "code",
   "execution_count": 23,
   "metadata": {},
   "outputs": [],
   "source": [
    "names= ['action','reward']\n",
    "names_c = []\n",
    "for i in range(10):\n",
    "    for j in range(10):\n",
    "        names_c.append('context'+str(i)+str(j))\n",
    "names.extend(names_c)\n",
    "data = pd.read_csv(\"dataset.txt\",sep=\" \",names=names,index_col=False)"
   ]
  },
  {
   "cell_type": "code",
   "execution_count": 109,
   "metadata": {},
   "outputs": [
    {
     "data": {
      "text/plain": [
       "(10000, 102)"
      ]
     },
     "execution_count": 109,
     "metadata": {},
     "output_type": "execute_result"
    }
   ],
   "source": [
    "data.shape"
   ]
  },
  {
   "cell_type": "markdown",
   "metadata": {},
   "source": [
    "#### DATA  \n",
    "10000 rows of data with chosen arm (random) out of 10 actions(articles) and reward (article clicked or not) , with 10-dimensional context vectors of each arm."
   ]
  },
  {
   "cell_type": "code",
   "execution_count": 110,
   "metadata": {},
   "outputs": [
    {
     "data": {
      "text/html": [
       "<div>\n",
       "<style scoped>\n",
       "    .dataframe tbody tr th:only-of-type {\n",
       "        vertical-align: middle;\n",
       "    }\n",
       "\n",
       "    .dataframe tbody tr th {\n",
       "        vertical-align: top;\n",
       "    }\n",
       "\n",
       "    .dataframe thead th {\n",
       "        text-align: right;\n",
       "    }\n",
       "</style>\n",
       "<table border=\"1\" class=\"dataframe\">\n",
       "  <thead>\n",
       "    <tr style=\"text-align: right;\">\n",
       "      <th></th>\n",
       "      <th>action</th>\n",
       "      <th>reward</th>\n",
       "      <th>context00</th>\n",
       "      <th>context01</th>\n",
       "      <th>context02</th>\n",
       "      <th>context03</th>\n",
       "      <th>context04</th>\n",
       "      <th>context05</th>\n",
       "      <th>context06</th>\n",
       "      <th>context07</th>\n",
       "      <th>...</th>\n",
       "      <th>context90</th>\n",
       "      <th>context91</th>\n",
       "      <th>context92</th>\n",
       "      <th>context93</th>\n",
       "      <th>context94</th>\n",
       "      <th>context95</th>\n",
       "      <th>context96</th>\n",
       "      <th>context97</th>\n",
       "      <th>context98</th>\n",
       "      <th>context99</th>\n",
       "    </tr>\n",
       "  </thead>\n",
       "  <tbody>\n",
       "    <tr>\n",
       "      <th>0</th>\n",
       "      <td>2</td>\n",
       "      <td>0</td>\n",
       "      <td>5</td>\n",
       "      <td>0</td>\n",
       "      <td>0</td>\n",
       "      <td>37</td>\n",
       "      <td>6</td>\n",
       "      <td>0</td>\n",
       "      <td>0</td>\n",
       "      <td>0</td>\n",
       "      <td>...</td>\n",
       "      <td>0</td>\n",
       "      <td>0</td>\n",
       "      <td>1</td>\n",
       "      <td>3</td>\n",
       "      <td>0</td>\n",
       "      <td>0</td>\n",
       "      <td>17</td>\n",
       "      <td>30</td>\n",
       "      <td>4</td>\n",
       "      <td>0</td>\n",
       "    </tr>\n",
       "    <tr>\n",
       "      <th>1</th>\n",
       "      <td>8</td>\n",
       "      <td>0</td>\n",
       "      <td>1</td>\n",
       "      <td>3</td>\n",
       "      <td>36</td>\n",
       "      <td>0</td>\n",
       "      <td>0</td>\n",
       "      <td>0</td>\n",
       "      <td>0</td>\n",
       "      <td>0</td>\n",
       "      <td>...</td>\n",
       "      <td>0</td>\n",
       "      <td>0</td>\n",
       "      <td>3</td>\n",
       "      <td>0</td>\n",
       "      <td>1</td>\n",
       "      <td>5</td>\n",
       "      <td>1</td>\n",
       "      <td>0</td>\n",
       "      <td>0</td>\n",
       "      <td>10</td>\n",
       "    </tr>\n",
       "    <tr>\n",
       "      <th>2</th>\n",
       "      <td>5</td>\n",
       "      <td>0</td>\n",
       "      <td>3</td>\n",
       "      <td>0</td>\n",
       "      <td>0</td>\n",
       "      <td>0</td>\n",
       "      <td>0</td>\n",
       "      <td>0</td>\n",
       "      <td>0</td>\n",
       "      <td>0</td>\n",
       "      <td>...</td>\n",
       "      <td>0</td>\n",
       "      <td>0</td>\n",
       "      <td>0</td>\n",
       "      <td>0</td>\n",
       "      <td>23</td>\n",
       "      <td>0</td>\n",
       "      <td>11</td>\n",
       "      <td>3</td>\n",
       "      <td>0</td>\n",
       "      <td>0</td>\n",
       "    </tr>\n",
       "    <tr>\n",
       "      <th>3</th>\n",
       "      <td>4</td>\n",
       "      <td>0</td>\n",
       "      <td>77</td>\n",
       "      <td>0</td>\n",
       "      <td>0</td>\n",
       "      <td>13</td>\n",
       "      <td>0</td>\n",
       "      <td>0</td>\n",
       "      <td>0</td>\n",
       "      <td>0</td>\n",
       "      <td>...</td>\n",
       "      <td>0</td>\n",
       "      <td>5</td>\n",
       "      <td>0</td>\n",
       "      <td>0</td>\n",
       "      <td>0</td>\n",
       "      <td>2</td>\n",
       "      <td>4</td>\n",
       "      <td>0</td>\n",
       "      <td>0</td>\n",
       "      <td>0</td>\n",
       "    </tr>\n",
       "    <tr>\n",
       "      <th>4</th>\n",
       "      <td>2</td>\n",
       "      <td>1</td>\n",
       "      <td>43</td>\n",
       "      <td>0</td>\n",
       "      <td>2</td>\n",
       "      <td>44</td>\n",
       "      <td>1</td>\n",
       "      <td>0</td>\n",
       "      <td>0</td>\n",
       "      <td>0</td>\n",
       "      <td>...</td>\n",
       "      <td>0</td>\n",
       "      <td>0</td>\n",
       "      <td>0</td>\n",
       "      <td>0</td>\n",
       "      <td>0</td>\n",
       "      <td>0</td>\n",
       "      <td>0</td>\n",
       "      <td>13</td>\n",
       "      <td>0</td>\n",
       "      <td>0</td>\n",
       "    </tr>\n",
       "  </tbody>\n",
       "</table>\n",
       "<p>5 rows × 102 columns</p>\n",
       "</div>"
      ],
      "text/plain": [
       "   action  reward  context00  context01  context02  context03  context04  \\\n",
       "0       2       0          5          0          0         37          6   \n",
       "1       8       0          1          3         36          0          0   \n",
       "2       5       0          3          0          0          0          0   \n",
       "3       4       0         77          0          0         13          0   \n",
       "4       2       1         43          0          2         44          1   \n",
       "\n",
       "   context05  context06  context07  ...  context90  context91  context92  \\\n",
       "0          0          0          0  ...          0          0          1   \n",
       "1          0          0          0  ...          0          0          3   \n",
       "2          0          0          0  ...          0          0          0   \n",
       "3          0          0          0  ...          0          5          0   \n",
       "4          0          0          0  ...          0          0          0   \n",
       "\n",
       "   context93  context94  context95  context96  context97  context98  context99  \n",
       "0          3          0          0         17         30          4          0  \n",
       "1          0          1          5          1          0          0         10  \n",
       "2          0         23          0         11          3          0          0  \n",
       "3          0          0          2          4          0          0          0  \n",
       "4          0          0          0          0         13          0          0  \n",
       "\n",
       "[5 rows x 102 columns]"
      ]
     },
     "execution_count": 110,
     "metadata": {},
     "output_type": "execute_result"
    }
   ],
   "source": [
    "data.head()"
   ]
  },
  {
   "cell_type": "code",
   "execution_count": 164,
   "metadata": {},
   "outputs": [],
   "source": [
    "def LinUCB(n_arms,context_dim,alpha,data,rounds,train_flag):\n",
    "    A = np.eye(context_dim)\n",
    "    A = np.vstack([A]*n_arms).reshape(context_dim,context_dim,n_arms)\n",
    "    #A = np.zeros([n_arms,context_dim,context_dim])\n",
    "    b = np.zeros([n_arms,context_dim,1])\n",
    "    #print(A.shape,b.shape)\n",
    "    cum_reward = 0\n",
    "    reward_history = np.zeros(rounds)\n",
    "    cum_reward_history = np.zeros(rounds)\n",
    "    n_update = 0\n",
    "    for i in range(data.shape[0]):\n",
    "        \n",
    "        #print(i)\n",
    "        qa = []\n",
    "        for j in range(n_arms):\n",
    "            context_a = np.array(data.loc[i,'context'+str(j)+'0':'context'+str(j)+'9']).reshape(context_dim,1)\n",
    "            A_inv = np.linalg.inv(A[j])\n",
    "            theta_a = np.matmul(A_inv,b[j])\n",
    "            p_ta = np.dot(theta_a.T,context_a) + alpha*np.sqrt(np.matmul(np.matmul(context_a.T,A_inv),context_a))\n",
    "            qa.append(p_ta[0][0])\n",
    "            #print(qa)\n",
    "        #print(qa)\n",
    "        action = np.random.choice(np.where(qa==max(qa))[0])\n",
    "        #print(action)\n",
    "        context_a_selected = np.array(data.loc[i,'context'+str(action)+'0':'context'+str(action)+'9']).reshape(context_dim,1)\n",
    "        data_action = data.loc[i,'action'] - 1\n",
    "        if data_action == action:\n",
    "            n_update+=1\n",
    "            r = data.loc[i,'reward']\n",
    "            A[action] = A[action] + np.outer(context_a_selected,context_a_selected)\n",
    "            b[action] = b[action] + r*context_a_selected\n",
    "            reward_history[n_update]= r\n",
    "            cum_reward+=r\n",
    "            cum_reward_history[n_update]=cum_reward\n",
    "        if n_update==rounds-1:\n",
    "            break     \n",
    "            \n",
    "    return reward_history,cum_reward_history"
   ]
  },
  {
   "cell_type": "code",
   "execution_count": 165,
   "metadata": {},
   "outputs": [],
   "source": [
    "rhistory,chistory = LinUCB(10,10,1,train_data,800,True)"
   ]
  },
  {
   "cell_type": "code",
   "execution_count": 166,
   "metadata": {},
   "outputs": [
    {
     "name": "stdout",
     "output_type": "stream",
     "text": [
      "0.52875\n"
     ]
    }
   ],
   "source": [
    "print(np.mean(rhistory))"
   ]
  },
  {
   "cell_type": "markdown",
   "metadata": {},
   "source": [
    "### Average Cumulative reward plot"
   ]
  },
  {
   "cell_type": "code",
   "execution_count": 167,
   "metadata": {},
   "outputs": [
    {
     "data": {
      "text/plain": [
       "[<matplotlib.lines.Line2D at 0x7f1d78a46780>]"
      ]
     },
     "execution_count": 167,
     "metadata": {},
     "output_type": "execute_result"
    },
    {
     "data": {
      "image/png": "[encoded data removed]",
      "text/plain": [
       "<Figure size 432x288 with 1 Axes>"
      ]
     },
     "metadata": {
      "needs_background": "light"
     },
     "output_type": "display_data"
    }
   ],
   "source": [
    "plt.plot(chistory[:800]/np.linspace(1,800,800))"
   ]
  },
  {
   "cell_type": "code",
   "execution_count": null,
   "metadata": {},
   "outputs": [],
   "source": []
  }
 ],
 "metadata": {
  "kernelspec": {
   "display_name": "Python 3",
   "language": "python",
   "name": "python3"
  },
  "language_info": {
   "codemirror_mode": {
    "name": "ipython",
    "version": 3
   },
   "file_extension": ".py",
   "mimetype": "text/x-python",
   "name": "python",
   "nbconvert_exporter": "python",
   "pygments_lexer": "ipython3",
   "version": "3.7.3"
  }
 },
 "nbformat": 4,
 "nbformat_minor": 4
}
